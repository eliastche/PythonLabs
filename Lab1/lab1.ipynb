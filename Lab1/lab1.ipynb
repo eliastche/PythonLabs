{
  "cells": [
    {
      "cell_type": "markdown",
      "metadata": {
        "id": "xyMrTDyJV5KP"
      },
      "source": [
        "# Exercise 1.\n",
        "* Write a function that determines if a year (given as parameter) is a leap year or not.\n",
        "    * The function should return a Boolean value.\n",
        "    * A year is a leap year if it is divisible by 4, unless it is also divisible by 100, with the exception that a year divisible by 400 is a leap year."
      ]
    },
    {
      "cell_type": "code",
      "execution_count": 3,
      "metadata": {
        "id": "I8kfJtXSV5KQ"
      },
      "outputs": [
        {
          "name": "stdout",
          "output_type": "stream",
          "text": [
            "Is the year 1900 a leap year?\n",
            " False \n",
            "\n",
            "Is the year 2000 a leap year?\n",
            " True \n",
            "\n",
            "Is the year 2016 a leap year?\n",
            " True \n",
            "\n",
            "Is the year 1987 a leap year?\n",
            " False \n",
            "\n"
          ]
        }
      ],
      "source": [
        "def leap_year(year):\n",
        "    \n",
        "    Result = False\n",
        "\n",
        "    if (year%4 == 0 and not year%100==0) or (year%400 == 0):\n",
        "        Result = True\n",
        "    return Result\n",
        "   \n",
        "years = [1900, 2000, 2016, 1987]\n",
        "for year in years:\n",
        "    Result = leap_year(year)\n",
        "    print(\"Is the year\", year, \"a leap year?\\n\", Result, \"\\n\")\n"
      ]
    },
    {
      "cell_type": "markdown",
      "metadata": {
        "id": "BRc_n3M2V5KR"
      },
      "source": [
        "# Exercise 2.\n",
        "* Write a function that takes two lists of integers as parameters, representing intervals.\n",
        "    * The function must check that each list contains exactly 2 elements, and computes the union of the two intervals.\n"
      ]
    },
    {
      "cell_type": "code",
      "execution_count": null,
      "metadata": {
        "id": "amJFLUHchYqq"
      },
      "outputs": [
        {
          "name": "stdout",
          "output_type": "stream",
          "text": [
            "Union: {8, 1, 10, 100}\n",
            "Intersection: set()\n"
          ]
        }
      ],
      "source": [
        "def union_intersection(list1, list2):\n",
        "    if len(list1) != 2 or len(list2) != 2:\n",
        "        raise ValueError(\"Both lists must contain exactly two elements.\")\n",
        "    union = list1 | list2\n",
        "    intersection = list1 & list2\n",
        "    return union, intersection\n",
        "\n",
        "list1 = [1,8]\n",
        "list2 = [10,100]\n",
        "\n",
        "union, intersection = union_intersection(set(list1), set(list2))\n",
        "print(\"Union:\", union)\n",
        "print(\"Intersection:\", intersection)\n",
        "\n"
      ]
    },
    {
      "cell_type": "markdown",
      "metadata": {
        "id": "ktiL8oQeV5KR"
      },
      "source": [
        "# Exercise 3.\n",
        "* Write a function that determines if a number given as parameter is a perfect number.\n",
        "    * A perfect number is a positive integer equal to the sum of its positive proper divisors (divisors excluding the number itself)."
      ]
    },
    {
      "cell_type": "code",
      "execution_count": null,
      "metadata": {
        "id": "IfYdSky-hbhE"
      },
      "outputs": [
        {
          "name": "stdout",
          "output_type": "stream",
          "text": [
            "Divisors of 28: [1, 2, 4, 7, 14]\n",
            "Addition: 1 + 2 + 4 + 7 + 14 = 28\n",
            "Multiplication: 1 * 2 * 4 * 7 * 14 = 784\n",
            "28 is a perfect number.\n"
          ]
        }
      ],
      "source": [
        "def perfect_number(n):\n",
        "    if n < 1:\n",
        "        raise ValueError(\"Input must be a positive integer.\")\n",
        "    divisors = [i for i in range(1, n) if n % i == 0]\n",
        "    print(\"Addition:\", \" + \".join(str(d) for d in divisors), \"=\", sum(divisors))\n",
        "    return sum(divisors) == n\n",
        "\n",
        "number = 28\n",
        "\n",
        "if perfect_number(number):\n",
        "    print(f\"{number} is a perfect number.\")\n",
        "else:\n",
        "    print(f\"{number} is not a perfect number.\")"
      ]
    },
    {
      "cell_type": "markdown",
      "metadata": {
        "id": "PUr4EHtxV5KR"
      },
      "source": [
        "# Exercise 4.\n",
        "* Write a function that returns the min and max values of a list given as parameter."
      ]
    },
    {
      "cell_type": "code",
      "execution_count": 17,
      "metadata": {
        "id": "oKzHA7rwhl6K"
      },
      "outputs": [
        {
          "name": "stdout",
          "output_type": "stream",
          "text": [
            "Minimum: 1\n",
            "Maximum: 9\n"
          ]
        }
      ],
      "source": [
        "def list_min_max(numbers):\n",
        "    if not numbers:\n",
        "        raise ValueError(\"The list cannot be empty.\")\n",
        "    return min(numbers), max(numbers)\n",
        "numbers = [3, 1, 4, 1, 5, 9, 2, 6, 5, 3, 5]\n",
        "minimum, maximum = list_min_max(numbers)\n",
        "print(\"Minimum:\", minimum)\n",
        "print(\"Maximum:\", maximum)"
      ]
    },
    {
      "cell_type": "markdown",
      "metadata": {
        "id": "jx9EIBovV5KR"
      },
      "source": [
        "# Exercise 5.\n",
        "* Write a function that checks if a list given as parameter is a Fibonacci sequence."
      ]
    },
    {
      "cell_type": "code",
      "execution_count": 18,
      "metadata": {
        "id": "y0bNPPgsV5KS"
      },
      "outputs": [
        {
          "name": "stdout",
          "output_type": "stream",
          "text": [
            "The sequence is a Fibonacci sequence.\n"
          ]
        }
      ],
      "source": [
        "def check_fibonacci_sequence(seq):\n",
        "    if len(seq) < 3:\n",
        "        return False\n",
        "    for i in range(2, len(seq)):\n",
        "        if seq[i] != seq[i-1] + seq[i-2]:\n",
        "            return False\n",
        "    return True\n",
        "\n",
        "\n",
        "sequence = [3, 5, 8, 13, 21]\n",
        "if check_fibonacci_sequence(sequence):\n",
        "    print(\"The sequence is a Fibonacci sequence.\")\n",
        "else:\n",
        "    print(\"The sequence is not a Fibonacci sequence.\")\n",
        "    "
      ]
    },
    {
      "cell_type": "markdown",
      "metadata": {
        "id": "YtORIYaqV5KS"
      },
      "source": [
        "# Exercise 6.\n",
        "* Write a function that takes as input a two-dimensional list and computes the average for each row in the list.\n",
        "    * The function should return a list containing the average value of each row."
      ]
    },
    {
      "cell_type": "code",
      "execution_count": 19,
      "metadata": {
        "id": "JTPlfNtzV5KS"
      },
      "outputs": [
        {
          "name": "stdout",
          "output_type": "stream",
          "text": [
            "Row averages: [2.0, 5.0, 8.0]\n",
            "Column averages: [4.0, 5.0, 6.0]\n"
          ]
        }
      ],
      "source": [
        "def two_dimensional_list_average_row_col(matrix):\n",
        "    if not matrix or not all(len(row) == len(matrix[0]) for row in matrix):\n",
        "        raise ValueError(\"Input must be a non-empty 2D list with equal row lengths.\")\n",
        "    \n",
        "    row_averages = [sum(row) / len(row) for row in matrix]\n",
        "    col_averages = [sum(matrix[i][j] for i in range(len(matrix))) / len(matrix) for j in range(len(matrix[0]))]\n",
        "    \n",
        "    return row_averages, col_averages\n",
        "matrix = [\n",
        "    [1, 2, 3],\n",
        "    [4, 5, 6],\n",
        "    [7, 8, 9]\n",
        "]\n",
        "row_averages, col_averages = two_dimensional_list_average_row_col(matrix)\n",
        "print(\"Row averages:\", row_averages)\n",
        "print(\"Column averages:\", col_averages) "
      ]
    }
  ],
  "metadata": {
    "colab": {
      "provenance": []
    },
    "kernelspec": {
      "display_name": "pythonfun",
      "language": "python",
      "name": "python3"
    },
    "language_info": {
      "codemirror_mode": {
        "name": "ipython",
        "version": 3
      },
      "file_extension": ".py",
      "mimetype": "text/x-python",
      "name": "python",
      "nbconvert_exporter": "python",
      "pygments_lexer": "ipython3",
      "version": "3.13.5"
    }
  },
  "nbformat": 4,
  "nbformat_minor": 0
}
