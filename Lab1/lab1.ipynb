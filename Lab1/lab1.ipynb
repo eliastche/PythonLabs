{
  "cells": [
    {
      "cell_type": "markdown",
      "metadata": {
        "id": "xyMrTDyJV5KP"
      },
      "source": [
        "# Exercise 1.\n",
        "* Write a function that determines if a year (given as parameter) is a leap year or not.\n",
        "    * The function should return a Boolean value.\n",
        "    * A year is a leap year if it is divisible by 4, unless it is also divisible by 100, with the exception that a year divisible by 400 is a leap year."
      ]
    },
    {
      "cell_type": "code",
      "execution_count": null,
      "metadata": {
        "id": "I8kfJtXSV5KQ"
      },
      "outputs": [],
      "source": []
    },
    {
      "cell_type": "markdown",
      "metadata": {
        "id": "BRc_n3M2V5KR"
      },
      "source": [
        "# Exercise 2.\n",
        "* Write a function that takes two lists of integers as parameters, representing intervals.\n",
        "    * The function must check that each list contains exactly 2 elements, and computes the union of the two intervals.\n"
      ]
    },
    {
      "cell_type": "code",
      "source": [],
      "metadata": {
        "id": "amJFLUHchYqq"
      },
      "execution_count": null,
      "outputs": []
    },
    {
      "cell_type": "markdown",
      "metadata": {
        "id": "ktiL8oQeV5KR"
      },
      "source": [
        "# Exercise 3.\n",
        "* Write a function that determines if a number given as parameter is a perfect number.\n",
        "    * A perfect number is a positive integer equal to the sum of its positive proper divisors (divisors excluding the number itself)."
      ]
    },
    {
      "cell_type": "code",
      "source": [],
      "metadata": {
        "id": "IfYdSky-hbhE"
      },
      "execution_count": null,
      "outputs": []
    },
    {
      "cell_type": "markdown",
      "metadata": {
        "id": "PUr4EHtxV5KR"
      },
      "source": [
        "# Exercise 4.\n",
        "* Write a function that returns the min and max values of a list given as parameter."
      ]
    },
    {
      "cell_type": "code",
      "source": [],
      "metadata": {
        "id": "oKzHA7rwhl6K"
      },
      "execution_count": null,
      "outputs": []
    },
    {
      "cell_type": "markdown",
      "metadata": {
        "id": "jx9EIBovV5KR"
      },
      "source": [
        "# Exercise 5.\n",
        "* Write a function that checks if a list given as parameter is a Fibonacci sequence."
      ]
    },
    {
      "cell_type": "code",
      "execution_count": null,
      "metadata": {
        "id": "y0bNPPgsV5KS"
      },
      "outputs": [],
      "source": []
    },
    {
      "cell_type": "markdown",
      "metadata": {
        "id": "YtORIYaqV5KS"
      },
      "source": [
        "# Exercise 6.\n",
        "* Write a function that takes as input a two-dimensional list and computes the average for each row in the list.\n",
        "    * The function should return a list containing the average value of each row."
      ]
    },
    {
      "cell_type": "code",
      "execution_count": null,
      "metadata": {
        "id": "JTPlfNtzV5KS"
      },
      "outputs": [],
      "source": []
    }
  ],
  "metadata": {
    "language_info": {
      "name": "python"
    },
    "colab": {
      "provenance": []
    },
    "kernelspec": {
      "name": "python3",
      "display_name": "Python 3"
    }
  },
  "nbformat": 4,
  "nbformat_minor": 0
}